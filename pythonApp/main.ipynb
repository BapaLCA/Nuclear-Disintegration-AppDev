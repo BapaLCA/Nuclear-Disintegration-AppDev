{
 "cells": [
  {
   "cell_type": "code",
   "execution_count": 1,
   "id": "0c6bac7f",
   "metadata": {},
   "outputs": [
    {
     "name": "stdout",
     "output_type": "stream",
     "text": [
      "Plot called\n",
      "1\n"
     ]
    },
    {
     "name": "stderr",
     "output_type": "stream",
     "text": [
      "D:\\Anaconda\\Lib\\site-packages\\scipy\\optimize\\_minpack_py.py:1010: OptimizeWarning: Covariance of the parameters could not be estimated\n",
      "  warnings.warn('Covariance of the parameters could not be estimated',\n"
     ]
    },
    {
     "name": "stdout",
     "output_type": "stream",
     "text": [
      "2\n"
     ]
    },
    {
     "name": "stderr",
     "output_type": "stream",
     "text": [
      "Exception in thread Thread-5 (read_uart):\n",
      "Traceback (most recent call last):\n",
      "  File \"D:\\Anaconda\\Lib\\threading.py\", line 1038, in _bootstrap_inner\n",
      "    self.run()\n",
      "  File \"D:\\Anaconda\\Lib\\threading.py\", line 975, in run\n",
      "    self._target(*self._args, **self._kwargs)\n",
      "  File \"C:\\Users\\romai\\Documents\\18F4550\\Nuclear-Disintegration AppDev\\pythonApp\\modules\\terminalUART.py\", line 76, in read_uart\n",
      "    if self.serial_port and self.serial_port.in_waiting > 0:\n",
      "                            ^^^^^^^^^^^^^^^^^^^^^^^^^^^\n",
      "  File \"D:\\Anaconda\\Lib\\site-packages\\serial\\serialwin32.py\", line 259, in in_waiting\n",
      "    raise SerialException(\"ClearCommError failed ({!r})\".format(ctypes.WinError()))\n",
      "serial.serialutil.SerialException: ClearCommError failed (OSError(9, 'Descripteur non valide', None, 6))\n"
     ]
    },
    {
     "data": {
      "image/png": "[encoded data removed]",
      "text/plain": [
       "<Figure size 700x500 with 1 Axes>"
      ]
     },
     "metadata": {},
     "output_type": "display_data"
    }
   ],
   "source": [
    "# Modules imports\n",
    "from modules.fileManaging import exit, open_file, plot_data\n",
    "#from modules.fitFunctions import add_erlang_fit, add_poisson_fit, add_gaussian_fit\n",
    "from modules.objectCreator import *\n",
    "from modules.terminalUART import *\n",
    "from modules.commandPIC18F import setFactorK\n",
    "# General libraries\n",
    "import matplotlib.pyplot as plt\n",
    "import numpy as np\n",
    "import pandas as pd\n",
    "from scipy.optimize import curve_fit\n",
    "import csv\n",
    "from collections import defaultdict\n",
    "import tkinter\n",
    "from tkinter import filedialog\n",
    "from matplotlib.backends.backend_tkagg import FigureCanvasTkAgg\n",
    "from tkinter import *\n",
    "import math\n",
    "from scipy.stats import poisson\n",
    "\n",
    "# Screen\n",
    "analysis = tkinter.Tk() # Définition d'un écran\n",
    "#analysis.geometry(\"1280x720\") # Définition de la taille de l'écran\n",
    "analysis.attributes('-fullscreen', True)\n",
    "analysis.title(\"Desintegrations Nucleaires\") # Définition du nom de l'application\n",
    "\n",
    "# Méthode pour basculer entre plein écran et mode fenêtré\n",
    "def toggle_fullscreen(event=None):\n",
    "    fullscreen = analysis.attributes('-fullscreen')\n",
    "    analysis.attributes('-fullscreen', not fullscreen)\n",
    "\n",
    "# Méthode pour quitter le mode plein écran\n",
    "def end_fullscreen(event=None):\n",
    "    analysis.attributes('-fullscreen', False)\n",
    "\n",
    "# Lier la touche F11 à la bascule plein écran\n",
    "analysis.bind('<F11>', toggle_fullscreen)\n",
    "\n",
    "# Lier la touche Échap pour quitter le plein écran\n",
    "analysis.bind('<Escape>', end_fullscreen)\n",
    "\n",
    "# Titre de l'application\n",
    "title = Label(text=\"Distribution de Poisson/Erlang\", font=(\"Arial\", 16, \"bold\")) # Définition du titre\n",
    "title.pack() # Affichage du label\n",
    "\n",
    "\n",
    "# Définition des variables globales\n",
    "data = defaultdict(list) # Liste de données pour la lecture du fichier csv\n",
    "user_input = 0 # Fréquence du signal pour l'adaptation de l'échelle des abscisses\n",
    "selected_value = tkinter.IntVar()  # Variable k\n",
    "selected_value.set(1) # Valeur par défaut\n",
    "\n",
    "# Définir la fonction de fermeture\n",
    "analysis.protocol(\"WM_DELETE_WINDOW\", lambda: on_closing(analysis, terminal))\n",
    "\n",
    "\n",
    "############################## Définition des fonction principales ############################## \n",
    "\n",
    "#def on_connect():\n",
    "#    terminal.connect() # On se connecte au port série\n",
    "#    container.update_buttons_state() # Si le terminal est bien connecté, on rend utilisable les boutons de contrôle\n",
    "#    terminal.send_data('?') # On demande l'état actuel du PIC (Le premier char est toujours ignoré, je ne sais pas pourquoi)\n",
    "#    terminal.send_data('?')\n",
    "\n",
    "def plot_uart_data(uart_data):\n",
    "    control.plot_uart_data(uart_data)\n",
    "\n",
    "# Fonction de fermeture du terminal\n",
    "def on_closing(root, terminal):\n",
    "    terminal.close()\n",
    "    root.destroy()\n",
    "\n",
    "############################## Configuration des boutons et menus ##############################\n",
    "\n",
    "# Créer un frame principal pour le layout\n",
    "main_frame = tk.Frame(analysis)\n",
    "main_frame.pack(expand=True, fill=tk.BOTH)\n",
    "\n",
    "# Configurer le layout pour qu'il s'étende correctement\n",
    "main_frame.columnconfigure(0, weight=1)\n",
    "main_frame.columnconfigure(1, weight=1)\n",
    "main_frame.rowconfigure(0, weight=1)\n",
    "main_frame.rowconfigure(1, weight=1)\n",
    "\n",
    "# Créer les quatre frames pour les coins de l'application\n",
    "top_left_frame = tk.Frame(main_frame, bg=\"lightblue\")\n",
    "top_left_frame.grid(row=0, column=0, padx=5, pady=5)\n",
    "\n",
    "top_right_frame = tk.Frame(main_frame, bg=\"lightgreen\")\n",
    "top_right_frame.grid(row=0, column=1, padx=5, pady=5)\n",
    "\n",
    "bottom_left_frame = tk.Frame(main_frame, bg=\"lightyellow\")\n",
    "bottom_left_frame.grid(row=1, column=0, padx=5, pady=5)\n",
    "\n",
    "bottom_right_frame = tk.Frame(main_frame, bg=\"lightcoral\")\n",
    "bottom_right_frame.grid(row=1, column=1, padx=5, pady=5)\n",
    "\n",
    "# Ajout du terminal UART\n",
    "terminal = UARTTerminal(top_right_frame, plot_uart_data)\n",
    "terminal.pack(expand=True, fill=tk.BOTH)\n",
    "\n",
    "# Ajout du controleur\n",
    "control = controller(top_left_frame, bottom_right_frame, terminal)\n",
    "control.pack(expand=True, fill=tk.BOTH)\n",
    "\n",
    "\n",
    "\n",
    "# Bouton pour quitter l'application (non fonctionnel pour le moment)\n",
    "bclose = Button(text=\"Close Application\", command=(exit)) # Bouton pour fermer l'application\n",
    "bclose.place(x=1150,y=670)\n",
    "\n",
    "\n",
    "# Loop\n",
    "analysis.mainloop() # Pour maintenir l'application ouverte\n"
   ]
  },
  {
   "cell_type": "code",
   "execution_count": null,
   "id": "e7afc4eb",
   "metadata": {},
   "outputs": [],
   "source": []
  }
 ],
 "metadata": {
  "kernelspec": {
   "display_name": "Python 3 (ipykernel)",
   "language": "python",
   "name": "python3"
  },
  "language_info": {
   "codemirror_mode": {
    "name": "ipython",
    "version": 3
   },
   "file_extension": ".py",
   "mimetype": "text/x-python",
   "name": "python",
   "nbconvert_exporter": "python",
   "pygments_lexer": "ipython3",
   "version": "3.11.5"
  }
 },
 "nbformat": 4,
 "nbformat_minor": 5
}
